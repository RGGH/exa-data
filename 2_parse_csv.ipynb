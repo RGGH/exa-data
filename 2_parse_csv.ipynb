{
 "cells": [
  {
   "cell_type": "markdown",
   "metadata": {},
   "source": [
    "# Parse Useful Data"
   ]
  },
  {
   "cell_type": "code",
   "execution_count": 38,
   "metadata": {},
   "outputs": [
    {
     "name": "stdout",
     "output_type": "stream",
     "text": [
      "fullUrl\n",
      "resource\n",
      "request\n"
     ]
    }
   ],
   "source": [
    "import ast\n",
    "import pandas as pd\n",
    "csv = (\"data/flattened_csvs/Aaron697_Dickens475_8c95253e-8ee8-9ae8-6d40-021d702dc78e.csv\")\n",
    "dict_from_csv = pd.read_csv(csv, header=None, index_col=0).squeeze(\"columns\").to_dict()\n",
    "\n",
    "response = (dict_from_csv)\n",
    "entry = response[3][1]\n",
    "x = ast.literal_eval(entry)\n",
    "entry = response[3][1]\n",
    "x = ast.literal_eval(entry)\n",
    "for k,v in x.items():\n",
    "    print(k)"
   ]
  },
  {
   "cell_type": "markdown",
   "metadata": {},
   "source": [
    "## Find top level Keys that will become fields in SQL DB"
   ]
  },
  {
   "cell_type": "code",
   "execution_count": 39,
   "metadata": {},
   "outputs": [],
   "source": [
    "# Top Level Keys\n",
    "\n",
    "fullUrl = x['fullUrl'] # no nested keys\n",
    "resource = x['resource'] # has nested keys\n",
    "request = x['request'] # no nested keys"
   ]
  },
  {
   "cell_type": "markdown",
   "metadata": {},
   "source": [
    "## Get all nested keys from 'resource' key"
   ]
  },
  {
   "cell_type": "code",
   "execution_count": 40,
   "metadata": {},
   "outputs": [],
   "source": [
    "# shorten the query length\n",
    "dq = x.get('resource')\n",
    "resource_type = (dq.get('resourceType'))\n",
    "\n",
    "resource_id = (dq.get('id'))\n",
    "\n",
    "meta = (dq.get('meta'))\n",
    "\n",
    "identifier = (dq.get('identifier'))\n",
    "identifier_use = (dq.get('identifier')[0].get('use'))\n",
    "identifier_system = (dq.get('identifier')[0].get('system'))\n",
    "identifier_value = (dq.get('identifier')[0].get('value'))\n",
    "\n",
    "status = (dq.get('status'))\n",
    "\n",
    "class_system = (dq.get('class').get('system'))\n",
    "class_code = (dq.get('class').get('code'))\n",
    "\n",
    "type_coding_system = (dq.get('type')[0].get('coding')[0].get('system'))\n",
    "type_coding_code = (dq.get('type')[0].get('coding')[0].get('code'))\n",
    "type_coding_display = (dq.get('type')[0].get('coding')[0].get('display'))\n",
    "type_text = (dq.get('type')[0].get('text'))\n",
    "\n",
    "type_subject = (dq.get('subject'))\n",
    "type_subject_reference = (dq.get('subject').get('reference'))\n",
    "type_subject_display = (dq.get('subject').get('display'))\n",
    "type_subject_display\n",
    "\n",
    "participant_type_coding = (dq.get('participant')[0].get('type')[0].get('coding'))\n",
    "\n",
    "participant_type_coding_system = (dq.get('participant')[0].get('type')[0].get('coding')[0].get('system'))\n",
    "\n",
    "participant_type_coding_code=(dq.get('participant')[0].get('type')[0].get('coding')[0].get('code'))\n",
    "\n",
    "participant_type_coding_display=(dq.get('participant')[0].get('type')[0].get('coding')[0].get('display'))\n",
    "\n",
    "participant_type_coding_text=(dq.get('participant')[0].get('type')[0].get('text'))\n",
    "participant_type_coding_text\n",
    "participant_type_coding_period=(dq.get('participant')[0].get('period'))\n",
    "participant_type_coding_period_start=(dq.get('participant')[0].get('period').get('start'))\n",
    "participant_type_coding_period_start\n",
    "participant_type_coding_period_end=(dq.get('participant')[0].get('period').get('end'))\n",
    "participant_type_coding_period_end\n",
    "participant_type_coding_individual=(dq.get('participant')[0].get('individual'))\n",
    "participant_type_coding_individual_reference = (dq.get('participant')[0].get('individual').get('reference'))\n",
    "participant_type_coding_individual_display = (dq.get('participant')[0].get('individual').get('display'))\n",
    "participant_type_coding_individual_display\n",
    "participant_period=(dq.get('period').get('end'))\n",
    "participant_period\n",
    "participant_location=(dq.get('location')[0].get('location'))\n",
    "participant_location_reference = (dq.get('location')[0].get('location').get('reference'))\n",
    "participant_location_display = (dq.get('location')[0].get('location').get('display'))\n",
    "\n",
    "\n",
    "participant_serviceProvider_reference = (dq.get('serviceProvider').get('reference'))\n",
    "participant_serviceProvider_display = (dq.get('serviceProvider').get('display'))\n",
    "\n",
    "# end of sample"
   ]
  }
 ],
 "metadata": {
  "kernelspec": {
   "display_name": "Python 3",
   "language": "python",
   "name": "python3"
  },
  "language_info": {
   "codemirror_mode": {
    "name": "ipython",
    "version": 3
   },
   "file_extension": ".py",
   "mimetype": "text/x-python",
   "name": "python",
   "nbconvert_exporter": "python",
   "pygments_lexer": "ipython3",
   "version": "3.8.10"
  }
 },
 "nbformat": 4,
 "nbformat_minor": 4
}
