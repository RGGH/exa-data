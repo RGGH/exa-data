{
 "cells": [
  {
   "cell_type": "markdown",
   "metadata": {},
   "source": [
    "# Parse Useful Data"
   ]
  },
  {
   "cell_type": "code",
   "execution_count": 404,
   "metadata": {},
   "outputs": [],
   "source": [
    "import ast\n",
    "import pandas as pd"
   ]
  },
  {
   "cell_type": "code",
   "execution_count": 405,
   "metadata": {},
   "outputs": [],
   "source": [
    "csv = (\"data/flattened_csvs/Aaron697_Dickens475_8c95253e-8ee8-9ae8-6d40-021d702dc78e.csv\")\n",
    "dict_from_csv = pd.read_csv(csv, header=None, index_col=0).squeeze(\"columns\").to_dict()\n",
    "\n",
    "response = (dict_from_csv)\n",
    "entry = response[3][1]"
   ]
  },
  {
   "cell_type": "code",
   "execution_count": 406,
   "metadata": {},
   "outputs": [],
   "source": [
    "x = ast.literal_eval(entry)"
   ]
  },
  {
   "cell_type": "code",
   "execution_count": 407,
   "metadata": {},
   "outputs": [
    {
     "name": "stdout",
     "output_type": "stream",
     "text": [
      "fullUrl\n",
      "resource\n",
      "request\n"
     ]
    }
   ],
   "source": [
    "for k,v in x.items():\n",
    "    print(k)"
   ]
  },
  {
   "cell_type": "markdown",
   "metadata": {},
   "source": [
    "## Find top level Keys that will become fields in SQL DB"
   ]
  },
  {
   "cell_type": "code",
   "execution_count": 408,
   "metadata": {},
   "outputs": [],
   "source": [
    "# Top Level Keys\n",
    "\n",
    "fullUrl = x['fullUrl'] # no nested keys\n",
    "resource = x['resource'] # has nested keys\n",
    "request = x['request'] # no nested keys"
   ]
  },
  {
   "cell_type": "code",
   "execution_count": 409,
   "metadata": {},
   "outputs": [
    {
     "data": {
      "text/plain": [
       "'urn:uuid:4dbc90e0-b7b2-482c-24af-1405654e59ae'"
      ]
     },
     "execution_count": 409,
     "metadata": {},
     "output_type": "execute_result"
    }
   ],
   "source": [
    "fullUrl"
   ]
  },
  {
   "cell_type": "code",
   "execution_count": 410,
   "metadata": {},
   "outputs": [
    {
     "data": {
      "text/plain": [
       "{'resourceType': 'Encounter',\n",
       " 'id': '4dbc90e0-b7b2-482c-24af-1405654e59ae',\n",
       " 'meta': {'profile': ['http://hl7.org/fhir/us/core/StructureDefinition/us-core-encounter']},\n",
       " 'identifier': [{'use': 'official',\n",
       "   'system': 'https://github.com/synthetichealth/synthea',\n",
       "   'value': '4dbc90e0-b7b2-482c-24af-1405654e59ae'}],\n",
       " 'status': 'finished',\n",
       " 'class': {'system': 'http://terminology.hl7.org/CodeSystem/v3-ActCode',\n",
       "  'code': 'AMB'},\n",
       " 'type': [{'coding': [{'system': 'http://snomed.info/sct',\n",
       "     'code': '162673000',\n",
       "     'display': 'General examination of patient (procedure)'}],\n",
       "   'text': 'General examination of patient (procedure)'}],\n",
       " 'subject': {'reference': 'urn:uuid:8c95253e-8ee8-9ae8-6d40-021d702dc78e',\n",
       "  'display': 'Mr. Aaron697 Dickens475'},\n",
       " 'participant': [{'type': [{'coding': [{'system': 'http://terminology.hl7.org/CodeSystem/v3-ParticipationType',\n",
       "       'code': 'PPRF',\n",
       "       'display': 'primary performer'}],\n",
       "     'text': 'primary performer'}],\n",
       "   'period': {'start': '1962-10-22T03:00:18+01:00',\n",
       "    'end': '1962-10-22T03:15:18+01:00'},\n",
       "   'individual': {'reference': 'Practitioner?identifier=http://hl7.org/fhir/sid/us-npi|9999914519',\n",
       "    'display': 'Dr. Wilmer32 Heidenreich818'}}],\n",
       " 'period': {'start': '1962-10-22T03:00:18+01:00',\n",
       "  'end': '1962-10-22T03:15:18+01:00'},\n",
       " 'location': [{'location': {'reference': 'Location?identifier=https://github.com/synthetichealth/synthea|08770baf-f5e6-3a1a-af4f-1d8be70df56f',\n",
       "    'display': 'MASS LUNG AND ALLERGY PC'}}],\n",
       " 'serviceProvider': {'reference': 'Organization?identifier=https://github.com/synthetichealth/synthea|3f44c95d-aa3d-3385-93f7-9b0bdecc52a6',\n",
       "  'display': 'MASS LUNG AND ALLERGY PC'}}"
      ]
     },
     "execution_count": 410,
     "metadata": {},
     "output_type": "execute_result"
    }
   ],
   "source": [
    "resource"
   ]
  },
  {
   "cell_type": "code",
   "execution_count": 411,
   "metadata": {},
   "outputs": [
    {
     "data": {
      "text/plain": [
       "{'method': 'POST', 'url': 'Encounter'}"
      ]
     },
     "execution_count": 411,
     "metadata": {},
     "output_type": "execute_result"
    }
   ],
   "source": [
    "request"
   ]
  },
  {
   "cell_type": "markdown",
   "metadata": {},
   "source": [
    "## Get all nested keys from 'resource' key"
   ]
  },
  {
   "cell_type": "code",
   "execution_count": 412,
   "metadata": {},
   "outputs": [],
   "source": [
    "resource_type = (x.get('resource').get('resourceType'))\n"
   ]
  },
  {
   "cell_type": "code",
   "execution_count": 413,
   "metadata": {},
   "outputs": [
    {
     "data": {
      "text/plain": [
       "'4dbc90e0-b7b2-482c-24af-1405654e59ae'"
      ]
     },
     "execution_count": 413,
     "metadata": {},
     "output_type": "execute_result"
    }
   ],
   "source": [
    "resource_id = (x.get('resource').get('id'))\n",
    "resource_id"
   ]
  },
  {
   "cell_type": "code",
   "execution_count": 414,
   "metadata": {},
   "outputs": [
    {
     "data": {
      "text/plain": [
       "{'profile': ['http://hl7.org/fhir/us/core/StructureDefinition/us-core-encounter']}"
      ]
     },
     "execution_count": 414,
     "metadata": {},
     "output_type": "execute_result"
    }
   ],
   "source": [
    "meta = (x.get('resource').get('meta'))\n",
    "meta"
   ]
  },
  {
   "cell_type": "code",
   "execution_count": 415,
   "metadata": {},
   "outputs": [],
   "source": [
    "identifier = (x.get('resource').get('identifier'))\n",
    "identifier_use = (x.get('resource').get('identifier')[0].get('use'))\n",
    "identifier_system = (x.get('resource').get('identifier')[0].get('system'))\n",
    "identifier_value = (x.get('resource').get('identifier')[0].get('value'))"
   ]
  },
  {
   "cell_type": "code",
   "execution_count": 416,
   "metadata": {},
   "outputs": [
    {
     "data": {
      "text/plain": [
       "'4dbc90e0-b7b2-482c-24af-1405654e59ae'"
      ]
     },
     "execution_count": 416,
     "metadata": {},
     "output_type": "execute_result"
    }
   ],
   "source": [
    "identifier_value"
   ]
  },
  {
   "cell_type": "code",
   "execution_count": 417,
   "metadata": {},
   "outputs": [
    {
     "data": {
      "text/plain": [
       "'finished'"
      ]
     },
     "execution_count": 417,
     "metadata": {},
     "output_type": "execute_result"
    }
   ],
   "source": [
    "status = (x.get('resource').get('status'))\n",
    "status"
   ]
  },
  {
   "cell_type": "code",
   "execution_count": 418,
   "metadata": {},
   "outputs": [
    {
     "data": {
      "text/plain": [
       "'AMB'"
      ]
     },
     "execution_count": 418,
     "metadata": {},
     "output_type": "execute_result"
    }
   ],
   "source": [
    "class_system = (x.get('resource').get('class').get('system'))\n",
    "class_code = (x.get('resource').get('class').get('code'))\n",
    "class_code"
   ]
  },
  {
   "cell_type": "code",
   "execution_count": 419,
   "metadata": {},
   "outputs": [],
   "source": [
    "type_coding_system = (x.get('resource').get('type')[0].get('coding')[0].get('system'))\n",
    "type_coding_code = (x.get('resource').get('type')[0].get('coding')[0].get('code'))\n",
    "type_coding_display = (x.get('resource').get('type')[0].get('coding')[0].get('display'))"
   ]
  },
  {
   "cell_type": "code",
   "execution_count": 420,
   "metadata": {},
   "outputs": [
    {
     "data": {
      "text/plain": [
       "'General examination of patient (procedure)'"
      ]
     },
     "execution_count": 420,
     "metadata": {},
     "output_type": "execute_result"
    }
   ],
   "source": [
    "type_text = (x.get('resource').get('type')[0].get('text'))\n",
    "type_text"
   ]
  },
  {
   "cell_type": "code",
   "execution_count": 421,
   "metadata": {},
   "outputs": [
    {
     "data": {
      "text/plain": [
       "'Mr. Aaron697 Dickens475'"
      ]
     },
     "execution_count": 421,
     "metadata": {},
     "output_type": "execute_result"
    }
   ],
   "source": [
    "type_subject = (x.get('resource').get('subject'))\n",
    "type_subject_reference = (x.get('resource').get('subject').get('reference'))\n",
    "type_subject_display = (x.get('resource').get('subject').get('display'))\n",
    "type_subject_display"
   ]
  },
  {
   "cell_type": "code",
   "execution_count": 428,
   "metadata": {},
   "outputs": [
    {
     "data": {
      "text/plain": [
       "'primary performer'"
      ]
     },
     "execution_count": 428,
     "metadata": {},
     "output_type": "execute_result"
    }
   ],
   "source": [
    "#participant = (x.get('resource').get('participant'))\n",
    "participant_type_coding = (x.get('resource').get('participant')[0].get('type')[0].get('coding'))\n",
    "#participant_type_coding\n",
    "participant_type_coding_system = (x.get('resource').get('participant')[0].get('type')[0].get('coding')[0].get('system'))\n",
    "#participant_type_coding_system\n",
    "participant_type_coding_code=(x.get('resource').get('participant')[0].get('type')[0].get('coding')[0].get('code'))\n",
    "#participant_type_coding_code\n",
    "participant_type_coding_display=(x.get('resource').get('participant')[0].get('type')[0].get('coding')[0].get('display'))\n",
    "#participant_type_coding_display\n",
    "participant_type_coding_text=(x.get('resource').get('participant')[0].get('type')[0].get('text'))\n",
    "participant_type_coding_text"
   ]
  },
  {
   "cell_type": "code",
   "execution_count": 439,
   "metadata": {},
   "outputs": [
    {
     "data": {
      "text/plain": [
       "'Dr. Wilmer32 Heidenreich818'"
      ]
     },
     "execution_count": 439,
     "metadata": {},
     "output_type": "execute_result"
    }
   ],
   "source": [
    "participant_type_coding_period=(x.get('resource').get('participant')[0].get('period'))\n",
    "participant_type_coding_period_start=(x.get('resource').get('participant')[0].get('period').get('start'))\n",
    "participant_type_coding_period_start\n",
    "participant_type_coding_period_end=(x.get('resource').get('participant')[0].get('period').get('end'))\n",
    "participant_type_coding_period_end\n",
    "participant_type_coding_individual=(x.get('resource').get('participant')[0].get('individual'))\n",
    "participant_type_coding_individual_reference = (x.get('resource').get('participant')[0].get('individual').get('reference'))\n",
    "participant_type_coding_individual_display = (x.get('resource').get('participant')[0].get('individual').get('display'))\n",
    "participant_type_coding_individual_display"
   ]
  },
  {
   "cell_type": "code",
   "execution_count": null,
   "metadata": {},
   "outputs": [],
   "source": []
  },
  {
   "cell_type": "code",
   "execution_count": null,
   "metadata": {},
   "outputs": [],
   "source": []
  }
 ],
 "metadata": {
  "kernelspec": {
   "display_name": "Python 3",
   "language": "python",
   "name": "python3"
  },
  "language_info": {
   "codemirror_mode": {
    "name": "ipython",
    "version": 3
   },
   "file_extension": ".py",
   "mimetype": "text/x-python",
   "name": "python",
   "nbconvert_exporter": "python",
   "pygments_lexer": "ipython3",
   "version": "3.8.10"
  }
 },
 "nbformat": 4,
 "nbformat_minor": 4
}
