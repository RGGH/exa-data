{
 "cells": [
  {
   "cell_type": "code",
   "execution_count": 283,
   "metadata": {},
   "outputs": [],
   "source": [
    "import ast\n",
    "import pandas as pd"
   ]
  },
  {
   "cell_type": "code",
   "execution_count": 284,
   "metadata": {},
   "outputs": [],
   "source": [
    "\n",
    "x = ast.literal_eval(entry)"
   ]
  },
  {
   "cell_type": "code",
   "execution_count": 285,
   "metadata": {},
   "outputs": [
    {
     "data": {
      "text/plain": [
       "{'fullUrl': 'urn:uuid:4dbc90e0-b7b2-482c-24af-1405654e59ae',\n",
       " 'resource': {'resourceType': 'Encounter',\n",
       "  'id': '4dbc90e0-b7b2-482c-24af-1405654e59ae',\n",
       "  'meta': {'profile': ['http://hl7.org/fhir/us/core/StructureDefinition/us-core-encounter']},\n",
       "  'identifier': [{'use': 'official',\n",
       "    'system': 'https://github.com/synthetichealth/synthea',\n",
       "    'value': '4dbc90e0-b7b2-482c-24af-1405654e59ae'}],\n",
       "  'status': 'finished',\n",
       "  'class': {'system': 'http://terminology.hl7.org/CodeSystem/v3-ActCode',\n",
       "   'code': 'AMB'},\n",
       "  'type': [{'coding': [{'system': 'http://snomed.info/sct',\n",
       "      'code': '162673000',\n",
       "      'display': 'General examination of patient (procedure)'}],\n",
       "    'text': 'General examination of patient (procedure)'}],\n",
       "  'subject': {'reference': 'urn:uuid:8c95253e-8ee8-9ae8-6d40-021d702dc78e',\n",
       "   'display': 'Mr. Aaron697 Dickens475'},\n",
       "  'participant': [{'type': [{'coding': [{'system': 'http://terminology.hl7.org/CodeSystem/v3-ParticipationType',\n",
       "        'code': 'PPRF',\n",
       "        'display': 'primary performer'}],\n",
       "      'text': 'primary performer'}],\n",
       "    'period': {'start': '1962-10-22T03:00:18+01:00',\n",
       "     'end': '1962-10-22T03:15:18+01:00'},\n",
       "    'individual': {'reference': 'Practitioner?identifier=http://hl7.org/fhir/sid/us-npi|9999914519',\n",
       "     'display': 'Dr. Wilmer32 Heidenreich818'}}],\n",
       "  'period': {'start': '1962-10-22T03:00:18+01:00',\n",
       "   'end': '1962-10-22T03:15:18+01:00'},\n",
       "  'location': [{'location': {'reference': 'Location?identifier=https://github.com/synthetichealth/synthea|08770baf-f5e6-3a1a-af4f-1d8be70df56f',\n",
       "     'display': 'MASS LUNG AND ALLERGY PC'}}],\n",
       "  'serviceProvider': {'reference': 'Organization?identifier=https://github.com/synthetichealth/synthea|3f44c95d-aa3d-3385-93f7-9b0bdecc52a6',\n",
       "   'display': 'MASS LUNG AND ALLERGY PC'}},\n",
       " 'request': {'method': 'POST', 'url': 'Encounter'}}"
      ]
     },
     "execution_count": 285,
     "metadata": {},
     "output_type": "execute_result"
    }
   ],
   "source": [
    "x"
   ]
  },
  {
   "cell_type": "code",
   "execution_count": null,
   "metadata": {},
   "outputs": [],
   "source": []
  }
 ],
 "metadata": {
  "kernelspec": {
   "display_name": "Python 3",
   "language": "python",
   "name": "python3"
  },
  "language_info": {
   "codemirror_mode": {
    "name": "ipython",
    "version": 3
   },
   "file_extension": ".py",
   "mimetype": "text/x-python",
   "name": "python",
   "nbconvert_exporter": "python",
   "pygments_lexer": "ipython3",
   "version": "3.8.10"
  }
 },
 "nbformat": 4,
 "nbformat_minor": 4
}
